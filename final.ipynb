{
 "cells": [
  {
   "cell_type": "code",
   "execution_count": 1,
   "id": "67e235b4-70d5-47ab-b64b-c6325aa1f6ec",
   "metadata": {},
   "outputs": [],
   "source": [
    "from pyspark.sql import SparkSession\n",
    "from pyspark.sql import functions as F\n",
    "from pyspark.sql.types import *\n",
    "#from pyspark.sql.window import Window\n",
    "#from datetime import date\n",
    "\n"
   ]
  },
  {
   "cell_type": "markdown",
   "id": "7b7ac295-5f4c-4146-a1db-2a94f527d351",
   "metadata": {},
   "source": [
    "## 1. Загрузка и предварительная обработка данных\n",
    "### 1.1 Загрузка и вывод схемы"
   ]
  },
  {
   "cell_type": "code",
   "execution_count": 2,
   "id": "a8735317-ecfe-4da8-ae43-489c58a11107",
   "metadata": {},
   "outputs": [],
   "source": [
    "spark = SparkSession.builder \\\n",
    "         .appName(\"project_avtovaz\") \\\n",
    "         .getOrCreate()\n",
    "#spark.sparkConrext.setLogLevel(\"WARN\")\n",
    "\n",
    "data_path = \"retail_store_sales.csv\"\n",
    "\n",
    "df = spark.read.csv(data_path, header=True, inferSchema=True)\n"
   ]
  },
  {
   "cell_type": "code",
   "execution_count": 3,
   "id": "67a1ee8c-feed-4c84-815e-a9194c3d5f95",
   "metadata": {},
   "outputs": [
    {
     "name": "stdout",
     "output_type": "stream",
     "text": [
      "+--------------+-----------+-------------+------------+--------------+--------+-----------+--------------+--------+----------------+----------------+\n",
      "|Transaction ID|Customer ID|     Category|        Item|Price Per Unit|Quantity|Total Spent|Payment Method|Location|Transaction Date|Discount Applied|\n",
      "+--------------+-----------+-------------+------------+--------------+--------+-----------+--------------+--------+----------------+----------------+\n",
      "|   TXN_6867343|    CUST_09|   Patisserie| Item_10_PAT|          18.5|    10.0|      185.0|Digital Wallet|  Online|      2024-04-08|            true|\n",
      "|   TXN_3731986|    CUST_22|Milk Products|Item_17_MILK|          29.0|     9.0|      261.0|Digital Wallet|  Online|      2023-07-23|            true|\n",
      "|   TXN_9303719|    CUST_02|     Butchers| Item_12_BUT|          21.5|     2.0|       43.0|   Credit Card|  Online|      2022-10-05|           false|\n",
      "|   TXN_9458126|    CUST_06|    Beverages| Item_16_BEV|          27.5|     9.0|      247.5|   Credit Card|  Online|      2022-05-07|            NULL|\n",
      "|   TXN_4575373|    CUST_05|         Food| Item_6_FOOD|          12.5|     7.0|       87.5|Digital Wallet|  Online|      2022-10-02|           false|\n",
      "+--------------+-----------+-------------+------------+--------------+--------+-----------+--------------+--------+----------------+----------------+\n",
      "only showing top 5 rows\n",
      "\n",
      "root\n",
      " |-- Transaction ID: string (nullable = true)\n",
      " |-- Customer ID: string (nullable = true)\n",
      " |-- Category: string (nullable = true)\n",
      " |-- Item: string (nullable = true)\n",
      " |-- Price Per Unit: double (nullable = true)\n",
      " |-- Quantity: double (nullable = true)\n",
      " |-- Total Spent: double (nullable = true)\n",
      " |-- Payment Method: string (nullable = true)\n",
      " |-- Location: string (nullable = true)\n",
      " |-- Transaction Date: date (nullable = true)\n",
      " |-- Discount Applied: boolean (nullable = true)\n",
      "\n"
     ]
    }
   ],
   "source": [
    "df.show(5)\n",
    "df.printSchema()"
   ]
  },
  {
   "cell_type": "markdown",
   "id": "91528cac-d5fa-4884-a43d-d2606139d9e6",
   "metadata": {},
   "source": [
    "### 1.2 очистка названий столбцов"
   ]
  },
  {
   "cell_type": "code",
   "execution_count": 4,
   "id": "d146a31f-9338-4aae-8ba0-0ba24b4e69ff",
   "metadata": {},
   "outputs": [],
   "source": [
    "def to_snake(name: str) -> str:\n",
    "    return (name.strip()\n",
    "                .replace(\"-\", \" \")\n",
    "                .replace(\"/\", \" \")\n",
    "                .replace(\".\", \" \")\n",
    "                .lower()\n",
    "                .replace(\" \", \"_\"))\n",
    "\n",
    "for old in df.columns:\n",
    "    df = df.withColumnRenamed(old, to_snake(old))\n",
    "\n"
   ]
  },
  {
   "cell_type": "code",
   "execution_count": 5,
   "id": "bc2fb082-101a-4d6a-ac0f-9ea39fd1279c",
   "metadata": {},
   "outputs": [
    {
     "name": "stdout",
     "output_type": "stream",
     "text": [
      "root\n",
      " |-- transaction_id: string (nullable = true)\n",
      " |-- customer_id: string (nullable = true)\n",
      " |-- category: string (nullable = true)\n",
      " |-- item: string (nullable = true)\n",
      " |-- price_per_unit: double (nullable = true)\n",
      " |-- quantity: double (nullable = true)\n",
      " |-- total_spent: double (nullable = true)\n",
      " |-- payment_method: string (nullable = true)\n",
      " |-- location: string (nullable = true)\n",
      " |-- transaction_date: date (nullable = true)\n",
      " |-- discount_applied: boolean (nullable = true)\n",
      "\n"
     ]
    }
   ],
   "source": [
    "df.printSchema()"
   ]
  },
  {
   "cell_type": "markdown",
   "id": "22e9fa68-7e35-4258-a28c-6a6733da2b7d",
   "metadata": {},
   "source": [
    "### 1.3 Преобразование типов данных"
   ]
  },
  {
   "cell_type": "code",
   "execution_count": 6,
   "id": "042dd708-d4e2-4071-80a3-d35818bb87eb",
   "metadata": {},
   "outputs": [
    {
     "name": "stdout",
     "output_type": "stream",
     "text": [
      "root\n",
      " |-- transaction_id: string (nullable = true)\n",
      " |-- customer_id: string (nullable = true)\n",
      " |-- category: string (nullable = true)\n",
      " |-- item: string (nullable = true)\n",
      " |-- price_per_unit: double (nullable = true)\n",
      " |-- quantity: double (nullable = true)\n",
      " |-- total_spent: double (nullable = true)\n",
      " |-- payment_method: string (nullable = true)\n",
      " |-- location: string (nullable = true)\n",
      " |-- transaction_date: date (nullable = true)\n",
      " |-- discount_applied: boolean (nullable = true)\n",
      "\n"
     ]
    }
   ],
   "source": [
    "df = (\n",
    "    df.withColumn(\"transaction_id\", F.col(\"transaction_id\").cast(StringType()))\n",
    "      .withColumn(\"customer_id\", F.col(\"customer_id\").cast(StringType()))\n",
    "      .withColumn(\"category\", F.col(\"category\").cast(StringType()))\n",
    "      .withColumn(\"item\", F.col(\"item\").cast(StringType()))\n",
    "      .withColumn(\"price_per_unit\", F.col(\"price_per_unit\").cast(DoubleType()))\n",
    "      .withColumn(\"quantity\", F.col(\"quantity\").cast(DoubleType()))\n",
    "      .withColumn(\"total_spent\", F.col(\"total_spent\").cast(DoubleType()))\n",
    "      .withColumn(\"payment_method\", F.col(\"payment_method\").cast(StringType()))\n",
    "      .withColumn(\"location\", F.col(\"location\").cast(StringType()))\n",
    "      .withColumn(\"transaction_date\", F.to_date(F.col(\"transaction_date\"), \"yyy-MM-dd\"))\n",
    "      .withColumn(\"discount_applied\", F.col(\"discount_applied\").cast(BooleanType()))\n",
    "      )\n",
    "df.printSchema()\n",
    "                  "
   ]
  },
  {
   "cell_type": "markdown",
   "id": "3d076ddf-8405-49b9-a5b7-89593ea95585",
   "metadata": {},
   "source": [
    "## 2. Очитска и валидация данных\n",
    "### 2.1 Восстановление отсутствующих item"
   ]
  },
  {
   "cell_type": "code",
   "execution_count": 7,
   "id": "72c55510-0bd7-4706-b377-735f1a10e37b",
   "metadata": {},
   "outputs": [
    {
     "name": "stdout",
     "output_type": "stream",
     "text": [
      "+--------------------+------------+-------+\n",
      "|                 cat|    item_ref|pp_unit|\n",
      "+--------------------+------------+-------+\n",
      "|           Beverages| Item_16_BEV|   27.5|\n",
      "|           Beverages|  Item_7_BEV|   14.0|\n",
      "|Electric househol...| Item_23_EHE|   38.0|\n",
      "|       Milk Products|Item_16_MILK|   27.5|\n",
      "|Computers and ele...|  Item_1_CEA|    5.0|\n",
      "|           Beverages| Item_25_BEV|   41.0|\n",
      "|                Food|Item_12_FOOD|   21.5|\n",
      "|           Furniture|  Item_4_FUR|    9.5|\n",
      "|           Beverages| Item_17_BEV|   29.0|\n",
      "|Computers and ele...|  Item_9_CEA|   17.0|\n",
      "|           Beverages| Item_18_BEV|   30.5|\n",
      "|                Food|Item_11_FOOD|   20.0|\n",
      "|Computers and ele...|  Item_6_CEA|   12.5|\n",
      "|Computers and ele...|  Item_8_CEA|   15.5|\n",
      "|Electric househol...|  Item_6_EHE|   12.5|\n",
      "|Electric househol...| Item_15_EHE|   26.0|\n",
      "|           Beverages| Item_11_BEV|   20.0|\n",
      "|          Patisserie|  Item_9_PAT|   17.0|\n",
      "|           Furniture| Item_16_FUR|   27.5|\n",
      "|Electric househol...|  Item_4_EHE|    9.5|\n",
      "+--------------------+------------+-------+\n",
      "only showing top 20 rows\n",
      "\n"
     ]
    }
   ],
   "source": [
    "product_lookup = (\n",
    "    df.select(\n",
    "        F.col(\"category\").alias(\"cat\"),\n",
    "        F.col(\"item\").alias(\"item_ref\"),\n",
    "        F.col(\"price_per_unit\").alias(\"pp_unit\")\n",
    "    )\n",
    "    .dropna(subset=[\"cat\", \"item_ref\", \"pp_unit\"])\n",
    "    .distinct()\n",
    ")\n",
    "                    \n",
    "product_lookup.show()    "
   ]
  },
  {
   "cell_type": "code",
   "execution_count": 8,
   "id": "b12b61f6-7413-4091-bccb-ae21b43ebf25",
   "metadata": {},
   "outputs": [
    {
     "name": "stdout",
     "output_type": "stream",
     "text": [
      "+--------------+-----------+--------------------+------------+--------------+--------+-----------+--------------+--------+----------------+----------------+\n",
      "|transaction_id|customer_id|            category|        item|price_per_unit|quantity|total_spent|payment_method|location|transaction_date|discount_applied|\n",
      "+--------------+-----------+--------------------+------------+--------------+--------+-----------+--------------+--------+----------------+----------------+\n",
      "|   TXN_6867343|    CUST_09|          Patisserie| Item_10_PAT|          18.5|    10.0|      185.0|Digital Wallet|  Online|      2024-04-08|            true|\n",
      "|   TXN_3731986|    CUST_22|       Milk Products|Item_17_MILK|          29.0|     9.0|      261.0|Digital Wallet|  Online|      2023-07-23|            true|\n",
      "|   TXN_9303719|    CUST_02|            Butchers| Item_12_BUT|          21.5|     2.0|       43.0|   Credit Card|  Online|      2022-10-05|           false|\n",
      "|   TXN_9458126|    CUST_06|           Beverages| Item_16_BEV|          27.5|     9.0|      247.5|   Credit Card|  Online|      2022-05-07|            NULL|\n",
      "|   TXN_4575373|    CUST_05|                Food| Item_6_FOOD|          12.5|     7.0|       87.5|Digital Wallet|  Online|      2022-10-02|           false|\n",
      "|   TXN_7482416|    CUST_09|          Patisserie|        NULL|          NULL|    10.0|      200.0|   Credit Card|  Online|      2023-11-30|            NULL|\n",
      "|   TXN_3652209|    CUST_07|                Food| Item_1_FOOD|           5.0|     8.0|       40.0|   Credit Card|In-store|      2023-06-10|            true|\n",
      "|   TXN_1372952|    CUST_21|           Furniture| Item_20_FUR|          33.5|    NULL|       NULL|Digital Wallet|In-store|      2024-04-02|            true|\n",
      "|   TXN_9728486|    CUST_23|           Furniture| Item_16_FUR|          27.5|     1.0|       27.5|   Credit Card|In-store|      2023-04-26|           false|\n",
      "|   TXN_2722661|    CUST_25|            Butchers| Item_22_BUT|          36.5|     3.0|      109.5|          Cash|  Online|      2024-03-14|           false|\n",
      "|   TXN_8776416|    CUST_22|            Butchers|  Item_3_BUT|           8.0|     9.0|       72.0|          Cash|In-store|      2024-12-14|            true|\n",
      "|   TXN_5422631|    CUST_09|       Milk Products|        NULL|          NULL|     8.0|       52.0|Digital Wallet|In-store|      2025-01-12|            true|\n",
      "|   TXN_5874772|    CUST_23|                Food| Item_2_FOOD|           6.5|     7.0|       45.5|          Cash|  Online|      2023-09-09|            true|\n",
      "|   TXN_4413070|    CUST_14|          Patisserie| Item_24_PAT|          39.5|     6.0|      237.0|Digital Wallet|In-store|      2022-05-20|           false|\n",
      "|   TXN_2490363|    CUST_09|       Milk Products|Item_16_MILK|          27.5|     2.0|       55.0|Digital Wallet|  Online|      2022-05-22|            NULL|\n",
      "|   TXN_1809665|    CUST_14|           Beverages| Item_14_BEV|          24.5|    NULL|       NULL|   Credit Card|In-store|      2022-05-11|            NULL|\n",
      "|   TXN_7563311|    CUST_23|          Patisserie| Item_17_PAT|          29.0|     8.0|      232.0|          Cash|  Online|      2024-11-16|            true|\n",
      "|   TXN_9634894|    CUST_15|       Milk Products|        NULL|          NULL|    10.0|      275.0|Digital Wallet|  Online|      2022-04-17|            NULL|\n",
      "|   TXN_4396807|    CUST_17|Electric househol...| Item_13_EHE|          23.0|     1.0|       23.0|Digital Wallet|In-store|      2022-02-07|           false|\n",
      "|   TXN_4206593|    CUST_01|           Furniture| Item_21_FUR|          35.0|    NULL|       NULL|Digital Wallet|  Online|      2025-01-13|           false|\n",
      "+--------------+-----------+--------------------+------------+--------------+--------+-----------+--------------+--------+----------------+----------------+\n",
      "only showing top 20 rows\n",
      "\n"
     ]
    }
   ],
   "source": [
    "df = (\n",
    "    df.join(product_lookup,\n",
    "            (df.category == product_lookup.cat) & (df.price_per_unit == product_lookup.pp_unit),\n",
    "            \"left\"\n",
    "           )\n",
    "    .withColumn(\"item\", F.when(F.col(\"item\").isNull(), F.col(\"item_ref\")).otherwise(F.col(\"item\")))\n",
    "    .drop(\"cat\", \"item_ref\", \"pp_unit\")\n",
    ")\n",
    "df.show(20)        "
   ]
  },
  {
   "cell_type": "markdown",
   "id": "1e1e519a-a488-4c89-8ec4-748c55615a3f",
   "metadata": {},
   "source": [
    "### 2.2 Восстановление Total Spent"
   ]
  },
  {
   "cell_type": "code",
   "execution_count": 9,
   "id": "5eadfb52-68ef-43a3-8a36-f875917aead8",
   "metadata": {},
   "outputs": [],
   "source": [
    "df = df.withColumn(\"total_spent\",\n",
    "                   F.when(\n",
    "                       F.col(\"total_spent\").isNull() & F.col(\"quantity\").isNotNull() & F.col(\"price_per_unit\").isNotNull(),\n",
    "                       F.col(\"quantity\") * F.col(\"price_per_unit\")\n",
    "                   ).otherwise(F.col(\"total_spent\"))\n",
    "                  )                                                                                         "
   ]
  },
  {
   "cell_type": "markdown",
   "id": "8dbb7b75-371d-4f58-807a-6f034a509beb",
   "metadata": {},
   "source": [
    "### 2.3 Заполнение отсутствующих quantity и price_per_unit"
   ]
  },
  {
   "cell_type": "code",
   "execution_count": 10,
   "id": "37227d31-5913-4682-8080-19e8020777c4",
   "metadata": {},
   "outputs": [],
   "source": [
    "df = df.withColumn(\"quantity\",\n",
    "                   F.when(\n",
    "                       F.col(\"quantity\").isNull() & F.col(\"total_spent\").isNotNull() & F.col(\"price_per_unit\").isNotNull(),\n",
    "                       F.round(F.col(\"total_spent\") / F.col(\"price_per_unit\"))\n",
    "                   ).otherwise(F.col(\"quantity\"))\n",
    "                  ) "
   ]
  },
  {
   "cell_type": "code",
   "execution_count": 11,
   "id": "2dc6a65f-88e8-4405-adcc-f7318bc02dfd",
   "metadata": {},
   "outputs": [],
   "source": [
    "df = df.withColumn(\"price_per_unit\",\n",
    "                   F.when(\n",
    "                       F.col(\"price_per_unit\").isNull() & F.col(\"total_spent\").isNotNull() & F.col(\"quantity\").isNotNull(),\n",
    "                       F.round(F.col(\"total_spent\") / F.col(\"quantity\"), 2)\n",
    "                   ).otherwise(F.col(\"price_per_unit\"))\n",
    "                  ) "
   ]
  },
  {
   "cell_type": "code",
   "execution_count": 12,
   "id": "973fa2aa-22af-4e70-8bc8-686425eb2365",
   "metadata": {},
   "outputs": [
    {
     "name": "stdout",
     "output_type": "stream",
     "text": [
      "+--------------+-----------+--------------------+------------+--------------+--------+-----------+--------------+--------+----------------+----------------+\n",
      "|transaction_id|customer_id|            category|        item|price_per_unit|quantity|total_spent|payment_method|location|transaction_date|discount_applied|\n",
      "+--------------+-----------+--------------------+------------+--------------+--------+-----------+--------------+--------+----------------+----------------+\n",
      "|   TXN_6867343|    CUST_09|          Patisserie| Item_10_PAT|          18.5|    10.0|      185.0|Digital Wallet|  Online|      2024-04-08|            true|\n",
      "|   TXN_3731986|    CUST_22|       Milk Products|Item_17_MILK|          29.0|     9.0|      261.0|Digital Wallet|  Online|      2023-07-23|            true|\n",
      "|   TXN_9303719|    CUST_02|            Butchers| Item_12_BUT|          21.5|     2.0|       43.0|   Credit Card|  Online|      2022-10-05|           false|\n",
      "|   TXN_9458126|    CUST_06|           Beverages| Item_16_BEV|          27.5|     9.0|      247.5|   Credit Card|  Online|      2022-05-07|            NULL|\n",
      "|   TXN_4575373|    CUST_05|                Food| Item_6_FOOD|          12.5|     7.0|       87.5|Digital Wallet|  Online|      2022-10-02|           false|\n",
      "|   TXN_7482416|    CUST_09|          Patisserie|        NULL|          20.0|    10.0|      200.0|   Credit Card|  Online|      2023-11-30|            NULL|\n",
      "|   TXN_3652209|    CUST_07|                Food| Item_1_FOOD|           5.0|     8.0|       40.0|   Credit Card|In-store|      2023-06-10|            true|\n",
      "|   TXN_1372952|    CUST_21|           Furniture| Item_20_FUR|          33.5|    NULL|       NULL|Digital Wallet|In-store|      2024-04-02|            true|\n",
      "|   TXN_9728486|    CUST_23|           Furniture| Item_16_FUR|          27.5|     1.0|       27.5|   Credit Card|In-store|      2023-04-26|           false|\n",
      "|   TXN_2722661|    CUST_25|            Butchers| Item_22_BUT|          36.5|     3.0|      109.5|          Cash|  Online|      2024-03-14|           false|\n",
      "|   TXN_8776416|    CUST_22|            Butchers|  Item_3_BUT|           8.0|     9.0|       72.0|          Cash|In-store|      2024-12-14|            true|\n",
      "|   TXN_5422631|    CUST_09|       Milk Products|        NULL|           6.5|     8.0|       52.0|Digital Wallet|In-store|      2025-01-12|            true|\n",
      "|   TXN_5874772|    CUST_23|                Food| Item_2_FOOD|           6.5|     7.0|       45.5|          Cash|  Online|      2023-09-09|            true|\n",
      "|   TXN_4413070|    CUST_14|          Patisserie| Item_24_PAT|          39.5|     6.0|      237.0|Digital Wallet|In-store|      2022-05-20|           false|\n",
      "|   TXN_2490363|    CUST_09|       Milk Products|Item_16_MILK|          27.5|     2.0|       55.0|Digital Wallet|  Online|      2022-05-22|            NULL|\n",
      "|   TXN_1809665|    CUST_14|           Beverages| Item_14_BEV|          24.5|    NULL|       NULL|   Credit Card|In-store|      2022-05-11|            NULL|\n",
      "|   TXN_7563311|    CUST_23|          Patisserie| Item_17_PAT|          29.0|     8.0|      232.0|          Cash|  Online|      2024-11-16|            true|\n",
      "|   TXN_9634894|    CUST_15|       Milk Products|        NULL|          27.5|    10.0|      275.0|Digital Wallet|  Online|      2022-04-17|            NULL|\n",
      "|   TXN_4396807|    CUST_17|Electric househol...| Item_13_EHE|          23.0|     1.0|       23.0|Digital Wallet|In-store|      2022-02-07|           false|\n",
      "|   TXN_4206593|    CUST_01|           Furniture| Item_21_FUR|          35.0|    NULL|       NULL|Digital Wallet|  Online|      2025-01-13|           false|\n",
      "+--------------+-----------+--------------------+------------+--------------+--------+-----------+--------------+--------+----------------+----------------+\n",
      "only showing top 20 rows\n",
      "\n"
     ]
    }
   ],
   "source": [
    "df.show(20)"
   ]
  },
  {
   "cell_type": "markdown",
   "id": "5c392015-a158-4267-b47c-0e6a69ce89db",
   "metadata": {},
   "source": [
    "### 2.4 Удаление оставшихся строк с пропусками в category, quantity, total_spent, price_per_unit"
   ]
  },
  {
   "cell_type": "code",
   "execution_count": 13,
   "id": "f98e070b-1c4c-43b3-b2fe-3690db1f6af4",
   "metadata": {},
   "outputs": [],
   "source": [
    "df = df.dropna(\n",
    "    subset=[\"category\", \"quantity\", \"total_spent\", \"price_per_unit\"]\n",
    ")"
   ]
  },
  {
   "cell_type": "code",
   "execution_count": 14,
   "id": "9fbea0ca-aea2-48be-9b96-c0bcf39aad59",
   "metadata": {},
   "outputs": [
    {
     "name": "stdout",
     "output_type": "stream",
     "text": [
      "+--------------+-----------+--------------------+------------+--------------+--------+-----------+--------------+--------+----------------+----------------+\n",
      "|transaction_id|customer_id|            category|        item|price_per_unit|quantity|total_spent|payment_method|location|transaction_date|discount_applied|\n",
      "+--------------+-----------+--------------------+------------+--------------+--------+-----------+--------------+--------+----------------+----------------+\n",
      "|   TXN_6867343|    CUST_09|          Patisserie| Item_10_PAT|          18.5|    10.0|      185.0|Digital Wallet|  Online|      2024-04-08|            true|\n",
      "|   TXN_3731986|    CUST_22|       Milk Products|Item_17_MILK|          29.0|     9.0|      261.0|Digital Wallet|  Online|      2023-07-23|            true|\n",
      "|   TXN_9303719|    CUST_02|            Butchers| Item_12_BUT|          21.5|     2.0|       43.0|   Credit Card|  Online|      2022-10-05|           false|\n",
      "|   TXN_9458126|    CUST_06|           Beverages| Item_16_BEV|          27.5|     9.0|      247.5|   Credit Card|  Online|      2022-05-07|            NULL|\n",
      "|   TXN_4575373|    CUST_05|                Food| Item_6_FOOD|          12.5|     7.0|       87.5|Digital Wallet|  Online|      2022-10-02|           false|\n",
      "|   TXN_7482416|    CUST_09|          Patisserie|        NULL|          20.0|    10.0|      200.0|   Credit Card|  Online|      2023-11-30|            NULL|\n",
      "|   TXN_3652209|    CUST_07|                Food| Item_1_FOOD|           5.0|     8.0|       40.0|   Credit Card|In-store|      2023-06-10|            true|\n",
      "|   TXN_9728486|    CUST_23|           Furniture| Item_16_FUR|          27.5|     1.0|       27.5|   Credit Card|In-store|      2023-04-26|           false|\n",
      "|   TXN_2722661|    CUST_25|            Butchers| Item_22_BUT|          36.5|     3.0|      109.5|          Cash|  Online|      2024-03-14|           false|\n",
      "|   TXN_8776416|    CUST_22|            Butchers|  Item_3_BUT|           8.0|     9.0|       72.0|          Cash|In-store|      2024-12-14|            true|\n",
      "|   TXN_5422631|    CUST_09|       Milk Products|        NULL|           6.5|     8.0|       52.0|Digital Wallet|In-store|      2025-01-12|            true|\n",
      "|   TXN_5874772|    CUST_23|                Food| Item_2_FOOD|           6.5|     7.0|       45.5|          Cash|  Online|      2023-09-09|            true|\n",
      "|   TXN_4413070|    CUST_14|          Patisserie| Item_24_PAT|          39.5|     6.0|      237.0|Digital Wallet|In-store|      2022-05-20|           false|\n",
      "|   TXN_2490363|    CUST_09|       Milk Products|Item_16_MILK|          27.5|     2.0|       55.0|Digital Wallet|  Online|      2022-05-22|            NULL|\n",
      "|   TXN_7563311|    CUST_23|          Patisserie| Item_17_PAT|          29.0|     8.0|      232.0|          Cash|  Online|      2024-11-16|            true|\n",
      "|   TXN_9634894|    CUST_15|       Milk Products|        NULL|          27.5|    10.0|      275.0|Digital Wallet|  Online|      2022-04-17|            NULL|\n",
      "|   TXN_4396807|    CUST_17|Electric househol...| Item_13_EHE|          23.0|     1.0|       23.0|Digital Wallet|In-store|      2022-02-07|           false|\n",
      "|   TXN_9939063|    CUST_14|           Beverages|  Item_7_BEV|          14.0|     9.0|      126.0|Digital Wallet|In-store|      2024-01-14|            NULL|\n",
      "|   TXN_8685338|    CUST_15|       Milk Products|        NULL|          35.0|     3.0|      105.0|   Credit Card|In-store|      2023-10-29|            NULL|\n",
      "|   TXN_6547964|    CUST_10|Electric househol...|  Item_4_EHE|           9.5|     7.0|       66.5|          Cash|In-store|      2022-08-15|            NULL|\n",
      "+--------------+-----------+--------------------+------------+--------------+--------+-----------+--------------+--------+----------------+----------------+\n",
      "only showing top 20 rows\n",
      "\n"
     ]
    }
   ],
   "source": [
    "df.show(20)"
   ]
  },
  {
   "cell_type": "markdown",
   "id": "21443abd-c423-415a-9078-54eef3e0fb38",
   "metadata": {},
   "source": [
    "## 3. Разведочный анализ данных\n",
    "### 3.1 Самые популярные категории товаров"
   ]
  },
  {
   "cell_type": "code",
   "execution_count": 15,
   "id": "6a550bef-f5a0-45a4-b6cc-7f131662765d",
   "metadata": {},
   "outputs": [
    {
     "name": "stdout",
     "output_type": "stream",
     "text": [
      "+--------------------+--------------+\n",
      "|            category|total_quantity|\n",
      "+--------------------+--------------+\n",
      "|           Furniture|        8462.0|\n",
      "|                Food|        8387.0|\n",
      "|           Beverages|        8358.0|\n",
      "|       Milk Products|        8339.0|\n",
      "|Electric househol...|        8309.0|\n",
      "+--------------------+--------------+\n",
      "\n"
     ]
    }
   ],
   "source": [
    "category_sales = df.groupBy(\"category\") \\\n",
    "    .agg(F.sum(\"quantity\").alias(\"total_quantity\")) \\\n",
    "    .orderBy(F.desc(\"total_quantity\")) \\\n",
    "    .limit(5)\n",
    "\n",
    "category_sales.show()"
   ]
  },
  {
   "cell_type": "markdown",
   "id": "ee4bfd1f-e0a7-49ed-8a28-d7188140f790",
   "metadata": {},
   "source": [
    "### 3.2 Анализ среднего чека"
   ]
  },
  {
   "cell_type": "code",
   "execution_count": 16,
   "id": "50d2fdbc-8ca6-4a5a-a8f3-41228b6eeb08",
   "metadata": {},
   "outputs": [
    {
     "name": "stdout",
     "output_type": "stream",
     "text": [
      "+--------------+---------------+\n",
      "|payment_method|avg_total_spent|\n",
      "+--------------+---------------+\n",
      "|          Cash|         131.05|\n",
      "|   Credit Card|         129.13|\n",
      "|Digital Wallet|         128.72|\n",
      "+--------------+---------------+\n",
      "\n"
     ]
    }
   ],
   "source": [
    "# среднее значение Total Spent для каждого метода оплаты\n",
    "avg_payment = df.groupBy(\"payment_method\") \\\n",
    "    .agg(F.round(F.avg(\"total_spent\"), 2).alias(\"avg_total_spent\")) \\\n",
    "    .orderBy(F.desc(\"avg_total_spent\"))\n",
    "\n",
    "avg_payment.show()"
   ]
  },
  {
   "cell_type": "code",
   "execution_count": 17,
   "id": "d026d496-4710-4941-8725-7e58075c9dc4",
   "metadata": {},
   "outputs": [
    {
     "name": "stdout",
     "output_type": "stream",
     "text": [
      "+--------+---------------+\n",
      "|location|avg_total_spent|\n",
      "+--------+---------------+\n",
      "|  Online|         130.42|\n",
      "|In-store|         128.86|\n",
      "+--------+---------------+\n",
      "\n"
     ]
    }
   ],
   "source": [
    "# среднее значение Total Spent для каждой места где прошла оплата\n",
    "avg_location = df.groupBy(\"location\") \\\n",
    "    .agg(F.round(F.avg(\"total_spent\"), 2).alias(\"avg_total_spent\")) \\\n",
    "    .orderBy(F.desc(\"avg_total_spent\"))\n",
    "\n",
    "avg_location.show()"
   ]
  },
  {
   "cell_type": "markdown",
   "id": "a30448e9-4741-48f1-98de-021ff378a0d8",
   "metadata": {},
   "source": [
    "## 4. Генерация признаков\n",
    "### 4.1 Временные признаки"
   ]
  },
  {
   "cell_type": "code",
   "execution_count": 18,
   "id": "af971784-a859-46d3-8fc6-aa10fda60129",
   "metadata": {},
   "outputs": [
    {
     "name": "stdout",
     "output_type": "stream",
     "text": [
      "+--------------+-----------+--------------------+------------+--------------+--------+-----------+--------------+--------+----------------+----------------+---------------+---------------------+\n",
      "|transaction_id|customer_id|            category|        item|price_per_unit|quantity|total_spent|payment_method|location|transaction_date|discount_applied|day_of_week_num|transaction_month_num|\n",
      "+--------------+-----------+--------------------+------------+--------------+--------+-----------+--------------+--------+----------------+----------------+---------------+---------------------+\n",
      "|   TXN_6867343|    CUST_09|          Patisserie| Item_10_PAT|          18.5|    10.0|      185.0|Digital Wallet|  Online|      2024-04-08|            true|              2|                    4|\n",
      "|   TXN_3731986|    CUST_22|       Milk Products|Item_17_MILK|          29.0|     9.0|      261.0|Digital Wallet|  Online|      2023-07-23|            true|              1|                    7|\n",
      "|   TXN_9303719|    CUST_02|            Butchers| Item_12_BUT|          21.5|     2.0|       43.0|   Credit Card|  Online|      2022-10-05|           false|              4|                   10|\n",
      "|   TXN_9458126|    CUST_06|           Beverages| Item_16_BEV|          27.5|     9.0|      247.5|   Credit Card|  Online|      2022-05-07|            NULL|              7|                    5|\n",
      "|   TXN_4575373|    CUST_05|                Food| Item_6_FOOD|          12.5|     7.0|       87.5|Digital Wallet|  Online|      2022-10-02|           false|              1|                   10|\n",
      "|   TXN_7482416|    CUST_09|          Patisserie|        NULL|          20.0|    10.0|      200.0|   Credit Card|  Online|      2023-11-30|            NULL|              5|                   11|\n",
      "|   TXN_3652209|    CUST_07|                Food| Item_1_FOOD|           5.0|     8.0|       40.0|   Credit Card|In-store|      2023-06-10|            true|              7|                    6|\n",
      "|   TXN_9728486|    CUST_23|           Furniture| Item_16_FUR|          27.5|     1.0|       27.5|   Credit Card|In-store|      2023-04-26|           false|              4|                    4|\n",
      "|   TXN_2722661|    CUST_25|            Butchers| Item_22_BUT|          36.5|     3.0|      109.5|          Cash|  Online|      2024-03-14|           false|              5|                    3|\n",
      "|   TXN_8776416|    CUST_22|            Butchers|  Item_3_BUT|           8.0|     9.0|       72.0|          Cash|In-store|      2024-12-14|            true|              7|                   12|\n",
      "|   TXN_5422631|    CUST_09|       Milk Products|        NULL|           6.5|     8.0|       52.0|Digital Wallet|In-store|      2025-01-12|            true|              1|                    1|\n",
      "|   TXN_5874772|    CUST_23|                Food| Item_2_FOOD|           6.5|     7.0|       45.5|          Cash|  Online|      2023-09-09|            true|              7|                    9|\n",
      "|   TXN_4413070|    CUST_14|          Patisserie| Item_24_PAT|          39.5|     6.0|      237.0|Digital Wallet|In-store|      2022-05-20|           false|              6|                    5|\n",
      "|   TXN_2490363|    CUST_09|       Milk Products|Item_16_MILK|          27.5|     2.0|       55.0|Digital Wallet|  Online|      2022-05-22|            NULL|              1|                    5|\n",
      "|   TXN_7563311|    CUST_23|          Patisserie| Item_17_PAT|          29.0|     8.0|      232.0|          Cash|  Online|      2024-11-16|            true|              7|                   11|\n",
      "|   TXN_9634894|    CUST_15|       Milk Products|        NULL|          27.5|    10.0|      275.0|Digital Wallet|  Online|      2022-04-17|            NULL|              1|                    4|\n",
      "|   TXN_4396807|    CUST_17|Electric househol...| Item_13_EHE|          23.0|     1.0|       23.0|Digital Wallet|In-store|      2022-02-07|           false|              2|                    2|\n",
      "|   TXN_9939063|    CUST_14|           Beverages|  Item_7_BEV|          14.0|     9.0|      126.0|Digital Wallet|In-store|      2024-01-14|            NULL|              1|                    1|\n",
      "|   TXN_8685338|    CUST_15|       Milk Products|        NULL|          35.0|     3.0|      105.0|   Credit Card|In-store|      2023-10-29|            NULL|              1|                   10|\n",
      "|   TXN_6547964|    CUST_10|Electric househol...|  Item_4_EHE|           9.5|     7.0|       66.5|          Cash|In-store|      2022-08-15|            NULL|              2|                    8|\n",
      "+--------------+-----------+--------------------+------------+--------------+--------+-----------+--------------+--------+----------------+----------------+---------------+---------------------+\n",
      "only showing top 20 rows\n",
      "\n"
     ]
    }
   ],
   "source": [
    "df = df.withColumn(\n",
    "     \"day_of_week_num\",\n",
    "     F.dayofweek(F.col(\"transaction_date\"))  \n",
    " ).withColumn(\n",
    "     \"transaction_month_num\",\n",
    "     F.month(F.col(\"transaction_date\"))\n",
    " )\n",
    "\n",
    "df.show()"
   ]
  },
  {
   "cell_type": "markdown",
   "id": "eaf89798-d2b6-4d99-b7fc-1122719b5740",
   "metadata": {},
   "source": [
    "### 4.2 Продажи по дням недели"
   ]
  },
  {
   "cell_type": "code",
   "execution_count": 19,
   "id": "19d7e2de-ff5e-4674-b1b8-17dae3a8f7ac",
   "metadata": {},
   "outputs": [
    {
     "name": "stdout",
     "output_type": "stream",
     "text": [
      "+---------------+---------------+\n",
      "|day_of_week_num|avg_total_spent|\n",
      "+---------------+---------------+\n",
      "|              1|         130.18|\n",
      "|              2|         125.57|\n",
      "|              3|         129.51|\n",
      "|              4|         126.82|\n",
      "|              5|         129.28|\n",
      "|              6|         134.64|\n",
      "|              7|         131.49|\n",
      "+---------------+---------------+\n",
      "\n"
     ]
    }
   ],
   "source": [
    "avg_sales_weekday = df.groupBy(\"day_of_week_num\") \\\n",
    "    .agg(F.round(F.avg(\"total_spent\"), 2).alias(\"avg_total_spent\")) \\\n",
    "    .orderBy(F.col(\"day_of_week_num\")\n",
    "    )\n",
    "\n",
    "avg_sales_weekday.show()"
   ]
  },
  {
   "cell_type": "markdown",
   "id": "a5ca6e52-9a28-437f-a3b9-75e13f2067f5",
   "metadata": {},
   "source": [
    "### 4.3 Продажи по месяцам"
   ]
  },
  {
   "cell_type": "code",
   "execution_count": 20,
   "id": "3037964f-6305-4447-955e-82b78974ae77",
   "metadata": {},
   "outputs": [
    {
     "name": "stdout",
     "output_type": "stream",
     "text": [
      "+---------------------+---------------+\n",
      "|transaction_month_num|avg_total_spent|\n",
      "+---------------------+---------------+\n",
      "|                    1|         134.69|\n",
      "|                    2|         130.66|\n",
      "|                    3|         126.83|\n",
      "|                    4|         131.81|\n",
      "|                    5|          127.4|\n",
      "|                    6|         130.95|\n",
      "|                    7|         126.57|\n",
      "|                    8|         124.28|\n",
      "|                    9|         131.45|\n",
      "|                   10|         127.85|\n",
      "|                   11|         128.79|\n",
      "|                   12|         133.15|\n",
      "+---------------------+---------------+\n",
      "\n"
     ]
    }
   ],
   "source": [
    "avg_sales_month = df.groupBy(\"transaction_month_num\") \\\n",
    "    .agg(F.round(F.avg(F.col(\"total_spent\")), 2).alias(\"avg_total_spent\")) \\\n",
    "    .orderBy(F.col(\"transaction_month_num\"))\n",
    "\n",
    "avg_sales_month.show()"
   ]
  },
  {
   "cell_type": "markdown",
   "id": "05aa2e07-316f-4f78-b540-c054d62628de",
   "metadata": {},
   "source": [
    "### 4.4 Признаки клиента"
   ]
  },
  {
   "cell_type": "code",
   "execution_count": 21,
   "id": "61ac0db0-f432-4b42-b2d0-5c6f30114dda",
   "metadata": {},
   "outputs": [
    {
     "name": "stdout",
     "output_type": "stream",
     "text": [
      "+-----------+-----------------------+\n",
      "|customer_id|customer_lifetime_value|\n",
      "+-----------+-----------------------+\n",
      "|    CUST_24|                68452.0|\n",
      "|    CUST_08|                67351.5|\n",
      "|    CUST_05|                66974.5|\n",
      "|    CUST_16|                65570.5|\n",
      "|    CUST_13|                65037.0|\n",
      "|    CUST_23|                64507.0|\n",
      "|    CUST_10|                63155.5|\n",
      "|    CUST_15|                63117.5|\n",
      "|    CUST_21|                62933.0|\n",
      "|    CUST_02|                62046.5|\n",
      "+-----------+-----------------------+\n",
      "\n"
     ]
    }
   ],
   "source": [
    "clv = df.groupBy(\"customer_id\") \\\n",
    "    .agg(F.sum(\"total_spent\").alias(\"customer_lifetime_value\")) \\\n",
    "    .orderBy(F.desc(\"customer_lifetime_value\")) \\\n",
    "    .limit(10)\n",
    "\n",
    "clv.show()"
   ]
  },
  {
   "cell_type": "code",
   "execution_count": null,
   "id": "247b0f14-58e4-421f-9bd5-5342e3ce5fcf",
   "metadata": {},
   "outputs": [],
   "source": []
  }
 ],
 "metadata": {
  "kernelspec": {
   "display_name": "Python 3 (ipykernel)",
   "language": "python",
   "name": "python3"
  },
  "language_info": {
   "codemirror_mode": {
    "name": "ipython",
    "version": 3
   },
   "file_extension": ".py",
   "mimetype": "text/x-python",
   "name": "python",
   "nbconvert_exporter": "python",
   "pygments_lexer": "ipython3",
   "version": "3.12.10"
  }
 },
 "nbformat": 4,
 "nbformat_minor": 5
}
